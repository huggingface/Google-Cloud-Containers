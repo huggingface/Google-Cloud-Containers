{
 "cells": [
  {
   "cell_type": "markdown",
   "metadata": {},
   "source": [
    "# Deploy DistilBERT for Text Classification on Vertex AI\n",
    "\n",
    "This notebook demonstrates how to deploy a DistilBERT model for text classification on Vertex AI. The model is trained on the IMDB dataset for sentiment analysis. The model is fine-tuned on the IMDB dataset and then deployed on Vertex AI for online prediction."
   ]
  },
  {
   "cell_type": "markdown",
   "metadata": {},
   "source": [
    "## Installations\n",
    "\n",
    "Before we can install the packages make sure you have the cli installed: https://cloud.google.com/sdk/docs/install\n",
    "\n",
    "Install the packages required for executing this notebook."
   ]
  },
  {
   "cell_type": "code",
   "execution_count": 1,
   "metadata": {},
   "outputs": [],
   "source": [
    "! pip install --upgrade --quiet google-cloud-aiplatform google-cloud-storage \"google-auth>=2.23.3\""
   ]
  },
  {
   "cell_type": "markdown",
   "metadata": {},
   "source": [
    "## Setup Vertex AI and SDK\n",
    "\n",
    "Login to gcloud and set your project id.\n",
    "\n",
    "```bash\n",
    "gcloud auth login \n",
    "gcloud auth application-default login\n",
    "``````"
   ]
  },
  {
   "cell_type": "markdown",
   "metadata": {},
   "source": [
    "### Setup SDK with your project id\n",
    "\n",
    "**If you don't know your project ID**, try the following:\n",
    "* Run `gcloud config list`.\n",
    "* Run `gcloud projects list`.\n",
    "* See the support page: [Locate the project ID](https://support.google.com/googleapi/answer/7014113)"
   ]
  },
  {
   "cell_type": "code",
   "execution_count": 4,
   "metadata": {},
   "outputs": [
    {
     "name": "stdout",
     "output_type": "stream",
     "text": [
      "\u001b[1;33mWARNING:\u001b[0m Your active project does not match the quota project in your local Application Default Credentials file. This might result in unexpected quota issues.\n",
      "\n",
      "To update your Application Default Credentials quota project, use the `gcloud auth application-default set-quota-project` command.\n",
      "Updated property [core/project].\n",
      "Updated property [ai/region].\n"
     ]
    }
   ],
   "source": [
    "# PROJECT_ID = \"[your-project-id]\"  # @param {type:\"string\"}\n",
    "PROJECT_ID = \"gcp-partnership-412108\"  # @param {type:\"string\"}\n",
    "REGION = \"us-central1\"  # @param {type: \"string\"}\n",
    "\n",
    "# Set the project id\n",
    "! gcloud config set project {PROJECT_ID} --quiet\n",
    "# Set the region\n",
    "! gcloud config set ai/region {REGION} --quiet"
   ]
  },
  {
   "cell_type": "markdown",
   "metadata": {},
   "source": [
    "Initialize the Vertex AI SDK for Python for your project and corresponding bucket."
   ]
  },
  {
   "cell_type": "code",
   "execution_count": 10,
   "metadata": {},
   "outputs": [],
   "source": [
    "from google.cloud import aiplatform\n",
    "\n",
    "aiplatform.init(project=PROJECT_ID, location=REGION)"
   ]
  },
  {
   "cell_type": "markdown",
   "metadata": {},
   "source": [
    "## 2. Deploy model to Vertex AI"
   ]
  },
  {
   "cell_type": "markdown",
   "metadata": {},
   "source": [
    "create new model"
   ]
  },
  {
   "cell_type": "code",
   "execution_count": 11,
   "metadata": {},
   "outputs": [
    {
     "name": "stdout",
     "output_type": "stream",
     "text": [
      "Creating Model\n",
      "Create Model backing LRO: projects/755607090520/locations/us-central1/models/6133463987339132928/operations/947387906241069056\n",
      "Model created. Resource name: projects/755607090520/locations/us-central1/models/6133463987339132928@1\n",
      "To use this Model in another session:\n",
      "model = aiplatform.Model('projects/755607090520/locations/us-central1/models/6133463987339132928@1')\n",
      "distilbert-base-uncased-finetuned-sst-2-english\n",
      "projects/755607090520/locations/us-central1/models/6133463987339132928\n"
     ]
    }
   ],
   "source": [
    "SERVING_CONTAINER_IMAGE_URI = \"us-central1-docker.pkg.dev/gcp-partnership-412108/base-infernece-image/base-inference-image:latest\"\n",
    "\n",
    "model = aiplatform.Model.upload(\n",
    "    display_name=\"distilbert-base-uncased-finetuned-sst-2-english\",\n",
    "    serving_container_image_uri=SERVING_CONTAINER_IMAGE_URI,\n",
    "    serving_container_environment_variables={\n",
    "        \"HF_MODEL_ID\": \"distilbert/distilbert-base-uncased-finetuned-sst-2-english\",\n",
    "        \"HF_TASK\": \"text-classification\",\n",
    "        },\n",
    ")\n",
    "\n",
    "\n",
    "model.wait()\n",
    "\n",
    "print(model.display_name)\n",
    "print(model.resource_name)"
   ]
  },
  {
   "cell_type": "markdown",
   "metadata": {},
   "source": [
    "The deployment will take ~20-25 minutes. You can check the status of the deployment in the cloud console."
   ]
  },
  {
   "cell_type": "code",
   "execution_count": 12,
   "metadata": {},
   "outputs": [
    {
     "name": "stdout",
     "output_type": "stream",
     "text": [
      "Creating Endpoint\n",
      "Create Endpoint backing LRO: projects/755607090520/locations/us-central1/endpoints/5604226159937060864/operations/1005231013955108864\n",
      "Endpoint created. Resource name: projects/755607090520/locations/us-central1/endpoints/5604226159937060864\n",
      "To use this Endpoint in another session:\n",
      "endpoint = aiplatform.Endpoint('projects/755607090520/locations/us-central1/endpoints/5604226159937060864')\n",
      "Deploying model to Endpoint : projects/755607090520/locations/us-central1/endpoints/5604226159937060864\n",
      "Deploy Endpoint model backing LRO: projects/755607090520/locations/us-central1/endpoints/5604226159937060864/operations/3921311772677505024\n",
      "Endpoint model deployed. Resource name: projects/755607090520/locations/us-central1/endpoints/5604226159937060864\n"
     ]
    }
   ],
   "source": [
    "machine_type = 'g2-standard-4' # L4 GPUs\n",
    "endpoint = aiplatform.Endpoint.create(display_name=\"distilbert-base-uncased-finetuned-sst-2-english-endpoint\")\n",
    "\n",
    "deployed_model = model.deploy(\n",
    "    endpoint=endpoint,\n",
    "    deployed_model_display_name=\"distilbert-base-uncased-finetuned-sst-2-english-deployed\",\n",
    "    machine_type=machine_type,\n",
    "    accelerator_type=\"NVIDIA_L4\",\n",
    "    accelerator_count=1,\n",
    "    traffic_percentage=100,\n",
    "    min_replica_count=1,\n",
    "    sync=True,\n",
    ")"
   ]
  },
  {
   "cell_type": "code",
   "execution_count": 15,
   "metadata": {},
   "outputs": [
    {
     "data": {
      "text/plain": [
       "[[{'score': 0.9998788833618164, 'label': 'POSITIVE'},\n",
       "  {'score': 0.0001210561968036927, 'label': 'NEGATIVE'}],\n",
       " [{'score': 0.9997544884681702, 'label': 'NEGATIVE'},\n",
       "  {'score': 0.0002454846107866615, 'label': 'POSITIVE'}]]"
      ]
     },
     "execution_count": 15,
     "metadata": {},
     "output_type": "execute_result"
    }
   ],
   "source": [
    "res = deployed_model.predict(instances=[\"I love this product\", \"I hate this product\"], parameters={ \"top_k\": 2 })\n",
    "res.predictions"
   ]
  },
  {
   "cell_type": "markdown",
   "metadata": {},
   "source": [
    "Delete resources"
   ]
  },
  {
   "cell_type": "code",
   "execution_count": 16,
   "metadata": {},
   "outputs": [
    {
     "name": "stdout",
     "output_type": "stream",
     "text": [
      "Undeploying Endpoint model: projects/755607090520/locations/us-central1/endpoints/5604226159937060864\n",
      "Undeploy Endpoint model backing LRO: projects/755607090520/locations/us-central1/endpoints/5604226159937060864/operations/1597595102442684416\n",
      "Endpoint model undeployed. Resource name: projects/755607090520/locations/us-central1/endpoints/5604226159937060864\n",
      "Deleting Endpoint : projects/755607090520/locations/us-central1/endpoints/5604226159937060864\n",
      "Delete Endpoint  backing LRO: projects/755607090520/locations/us-central1/operations/6209281120870072320\n",
      "Endpoint deleted. . Resource name: projects/755607090520/locations/us-central1/endpoints/5604226159937060864\n",
      "Deleting Model : projects/755607090520/locations/us-central1/models/6133463987339132928\n",
      "Delete Model  backing LRO: projects/755607090520/locations/us-central1/models/6133463987339132928/operations/3266460239360163840\n",
      "Model deleted. . Resource name: projects/755607090520/locations/us-central1/models/6133463987339132928\n"
     ]
    }
   ],
   "source": [
    "deployed_model.undeploy_all()\n",
    "deployed_model.delete()\n",
    "model.delete()"
   ]
  },
  {
   "cell_type": "code",
   "execution_count": null,
   "metadata": {},
   "outputs": [],
   "source": []
  }
 ],
 "metadata": {
  "kernelspec": {
   "display_name": "Python 3",
   "language": "python",
   "name": "python3"
  },
  "language_info": {
   "codemirror_mode": {
    "name": "ipython",
    "version": 3
   },
   "file_extension": ".py",
   "mimetype": "text/x-python",
   "name": "python",
   "nbconvert_exporter": "python",
   "pygments_lexer": "ipython3",
   "version": "3.7.12"
  }
 },
 "nbformat": 4,
 "nbformat_minor": 2
}
