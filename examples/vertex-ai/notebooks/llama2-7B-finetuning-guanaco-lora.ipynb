{
 "cells": [
  {
   "cell_type": "markdown",
   "id": "740ec248",
   "metadata": {},
   "source": [
    "# Finetune LLaMa2 (7B) on timdettmers/openassistant-guanaco using 🤗 peft, trl, bitsandbytes, Flash Attention 2 & transformers\\n\n",
    "\n",
    "This notebook runs on top of the image built using this Dockerfile: [GitHub Link](https://github.com/huggingface/Google-Cloud-Containers/blob/main/containers/pytorch/training/gpu/2.1/transformers/4.38.1/py310/Dockerfile)\n",
    "\n",
    "Using this image you don't need to install any packages, as all needed packages are already there.\n",
    "\n",
    "\n",
    "### Prerequisite\n",
    "\n",
    "In order to access the model weights, you have to accept the conditions to access its files and content on [HuggingFace Hub](https://huggingface.co/meta-llama/Llama-2-7b). Once accepted, you need to authenticate yourself in order to download model weights. You can use this from CLI:\n",
    "\n",
    "```bash\n",
    "huggingface-cli login\n",
    "```\n",
    "There are other ways too which can be found [here](https://huggingface.co/docs/huggingface_hub/en/quick-start#authentication)"
   ]
  },
  {
   "cell_type": "markdown",
   "id": "5aaeef94",
   "metadata": {},
   "source": [
    "## Import libraries and specify model to use"
   ]
  },
  {
   "cell_type": "code",
   "execution_count": 1,
   "id": "1b264f92",
   "metadata": {},
   "outputs": [
    {
     "name": "stderr",
     "output_type": "stream",
     "text": [
      "/usr/local/lib/python3.10/dist-packages/tqdm/auto.py:21: TqdmWarning: IProgress not found. Please update jupyter and ipywidgets. See https://ipywidgets.readthedocs.io/en/stable/user_install.html\n",
      "  from .autonotebook import tqdm as notebook_tqdm\n"
     ]
    },
    {
     "name": "stdout",
     "output_type": "stream",
     "text": [
      "[2024-02-28 17:06:21,151] [INFO] [real_accelerator.py:191:get_accelerator] Setting ds_accelerator to cuda (auto detect)\n"
     ]
    }
   ],
   "source": [
    "import torch\n",
    "from datasets import load_dataset\n",
    "from transformers import AutoTokenizer, AutoModelForCausalLM, BitsAndBytesConfig, TrainingArguments, DataCollatorForLanguageModeling\n",
    "from peft import LoraConfig\n",
    "from trl import SFTTrainer"
   ]
  },
  {
   "cell_type": "code",
   "execution_count": 2,
   "id": "74b756ec",
   "metadata": {},
   "outputs": [
    {
     "name": "stderr",
     "output_type": "stream",
     "text": [
      "Repo card metadata block was not found. Setting CardData to empty.\n"
     ]
    }
   ],
   "source": [
    "model_id = \"meta-llama/Llama-2-7b-hf\""
   ]
  },
  {
   "cell_type": "markdown",
   "id": "b30c98d2",
   "metadata": {},
   "source": [
    "## Load Dataset and Tokenizer"
   ]
  },
  {
   "cell_type": "markdown",
   "id": "d6ebe8df",
   "metadata": {},
   "source": [
    "We will use `timdettmers/openassistant-guanaco` an open source dataset, which is a subset of the [Open Assistant dataset](https://huggingface.co/datasets/OpenAssistant/oasst1). This subset of the data only contains the highest-rated paths in the conversation tree, with a total of 9,846 samples.\n",
    "\n",
    "\n",
    "\n",
    "###Human: eu quero que você atue como um terminal linux. Vou digitar comandos e você vai responder com o que o terminal deve mostrar. Quero que você responda apenas com a saída do terminal dentro de um bloco de código exclusivo e nada mais. não escreva explicações. não digite comandos a menos que eu o instrua a fazê-lo. quando eu precisar te dizer algo em português, eu o farei colocando o texto dentro de colchetes {assim}. meu primeiro comando é pwd### Assistant: $ pwd /home/user\n",
    "\n",
    "\n",
    "\n",
    "\n",
    "To load the dataset, we use the 🤗 Datasets library. One more thing to notice is that we do not need to format the dataset as the `SFTTrainer` from 🤗 [TRL](https://huggingface.co/docs/trl/en/sft_trainer) library supports it."
   ]
  },
  {
   "cell_type": "code",
   "execution_count": null,
   "id": "2ba5ee82",
   "metadata": {},
   "outputs": [],
   "source": [
    "raw_dataset = load_dataset(\"timdettmers/openassistant-guanaco\", split=\"train\")"
   ]
  },
  {
   "cell_type": "code",
   "execution_count": 3,
   "id": "271d90d9",
   "metadata": {},
   "outputs": [],
   "source": [
    "# Load Tokenizer\n",
    "tokenizer = AutoTokenizer.from_pretrained(model_id)\n",
    "tokenizer.pad_token = tokenizer.eos_token"
   ]
  },
  {
   "cell_type": "markdown",
   "id": "38f8f65f",
   "metadata": {},
   "source": [
    "## Finetune LLaMA 7B with QLoRA"
   ]
  },
  {
   "cell_type": "code",
   "execution_count": 4,
   "id": "02f54678",
   "metadata": {},
   "outputs": [],
   "source": [
    "# BitsAndBytes 4bit config\n",
    "bnb_config = BitsAndBytesConfig(\n",
    "    load_in_4bit=True,\n",
    "    bnb_4bit_use_double_quant=True,\n",
    "    bnb_4bit_quant_type=\"nf4\",\n",
    "    bnb_4bit_compute_dtype=torch.bfloat16\n",
    ")"
   ]
  },
  {
   "cell_type": "code",
   "execution_count": 5,
   "id": "ca3d5725",
   "metadata": {},
   "outputs": [
    {
     "name": "stderr",
     "output_type": "stream",
     "text": [
      "Loading checkpoint shards: 100%|█████████████████████████████████████| 2/2 [00:04<00:00,  2.23s/it]\n"
     ]
    }
   ],
   "source": [
    "model = AutoModelForCausalLM.from_pretrained(model_id, \n",
    "                                             quantization_config=bnb_config, \n",
    "                                             device_map=\"auto\",\n",
    "                                             attn_implementation=\"flash_attention_2\"\n",
    "                                            )"
   ]
  },
  {
   "cell_type": "code",
   "execution_count": 6,
   "id": "812cf259",
   "metadata": {},
   "outputs": [],
   "source": [
    "# LoRA config\n",
    "peft_config = LoraConfig(\n",
    "    lora_alpha=16,\n",
    "    lora_dropout=0.05,\n",
    "    r=8,\n",
    "    bias=\"none\",\n",
    "    task_type=\"CAUSAL_LM\", \n",
    ")"
   ]
  },
  {
   "cell_type": "code",
   "execution_count": null,
   "id": "6340b353",
   "metadata": {},
   "outputs": [],
   "source": [
    "# Define training arguments\n",
    "training_args = TrainingArguments(\n",
    "    output_dir=\"output\",\n",
    "    per_device_train_batch_size=2,\n",
    "    gradient_accumulation_steps=4,\n",
    "    num_train_epochs=3,\n",
    "    logging_strategy=\"steps\",\n",
    "    logging_steps=20,\n",
    "    bf16=True,\n",
    "    optim=\"paged_adamw_8bit\",\n",
    "    \n",
    ")\n",
    "\n",
    "# Initialize our Trainer\n",
    "trainer = SFTTrainer(\n",
    "    model=model,\n",
    "    peft_config=peft_config,\n",
    "    args=training_args,\n",
    "    dataset_text_field=\"text\",\n",
    "    packing=True,\n",
    "    train_dataset=raw_dataset,\n",
    "    tokenizer=tokenizer,\n",
    "    data_collator=DataCollatorForLanguageModeling(tokenizer=tokenizer, mlm=False),\n",
    ")\n",
    "\n",
    "# Train the model\n",
    "trainer.train()\n",
    "\n",
    "# save model\n",
    "trainer.save_model()"
   ]
  }
 ],
 "metadata": {
  "kernelspec": {
   "display_name": "Python 3 (ipykernel)",
   "language": "python",
   "name": "python3"
  },
  "language_info": {
   "codemirror_mode": {
    "name": "ipython",
    "version": 3
   },
   "file_extension": ".py",
   "mimetype": "text/x-python",
   "name": "python",
   "nbconvert_exporter": "python",
   "pygments_lexer": "ipython3",
   "version": "3.10.12"
  }
 },
 "nbformat": 4,
 "nbformat_minor": 5
}
